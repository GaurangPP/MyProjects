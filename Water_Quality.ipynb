{
  "nbformat": 4,
  "nbformat_minor": 0,
  "metadata": {
    "colab": {
      "name": "Water_Quality.ipynb",
      "provenance": [],
      "authorship_tag": "ABX9TyM244qY9bHLQOmBWnIBdYUK",
      "include_colab_link": true
    },
    "kernelspec": {
      "name": "python3",
      "display_name": "Python 3"
    },
    "language_info": {
      "name": "python"
    }
  },
  "cells": [
    {
      "cell_type": "markdown",
      "metadata": {
        "id": "view-in-github",
        "colab_type": "text"
      },
      "source": [
        "<a href=\"https://colab.research.google.com/github/GaurangPP/MyProjects/blob/main/Water_Quality.ipynb\" target=\"_parent\"><img src=\"https://colab.research.google.com/assets/colab-badge.svg\" alt=\"Open In Colab\"/></a>"
      ]
    },
    {
      "cell_type": "markdown",
      "metadata": {
        "id": "9VNt7XK63sOy"
      },
      "source": [
        "# Dataset"
      ]
    },
    {
      "cell_type": "code",
      "metadata": {
        "id": "oBsMkmcr2dsl"
      },
      "source": [
        "import numpy as np\n",
        "import matplotlib.pyplot as plt\n",
        "import pandas as pd"
      ],
      "execution_count": null,
      "outputs": []
    },
    {
      "cell_type": "code",
      "metadata": {
        "id": "JRxqL_iv63e_"
      },
      "source": [
        "import tensorflow as tf"
      ],
      "execution_count": null,
      "outputs": []
    },
    {
      "cell_type": "code",
      "metadata": {
        "id": "tnEitd0o2qSr"
      },
      "source": [
        "dataset = pd.read_csv('water_potability.csv')\n",
        "X = dataset.iloc[:,:-1].values\n",
        "y = dataset.iloc[:,-1].values"
      ],
      "execution_count": null,
      "outputs": []
    },
    {
      "cell_type": "code",
      "metadata": {
        "colab": {
          "base_uri": "https://localhost:8080/",
          "height": 295
        },
        "id": "xHRmmlZ4f7p4",
        "outputId": "fd95b0b0-47fc-4304-ad8b-f061b60d4c12"
      },
      "source": [
        "dataset.describe()"
      ],
      "execution_count": null,
      "outputs": [
        {
          "output_type": "execute_result",
          "data": {
            "text/html": [
              "<div>\n",
              "<style scoped>\n",
              "    .dataframe tbody tr th:only-of-type {\n",
              "        vertical-align: middle;\n",
              "    }\n",
              "\n",
              "    .dataframe tbody tr th {\n",
              "        vertical-align: top;\n",
              "    }\n",
              "\n",
              "    .dataframe thead th {\n",
              "        text-align: right;\n",
              "    }\n",
              "</style>\n",
              "<table border=\"1\" class=\"dataframe\">\n",
              "  <thead>\n",
              "    <tr style=\"text-align: right;\">\n",
              "      <th></th>\n",
              "      <th>ph</th>\n",
              "      <th>Hardness</th>\n",
              "      <th>Solids</th>\n",
              "      <th>Chloramines</th>\n",
              "      <th>Sulfate</th>\n",
              "      <th>Conductivity</th>\n",
              "      <th>Organic_carbon</th>\n",
              "      <th>Trihalomethanes</th>\n",
              "      <th>Turbidity</th>\n",
              "      <th>Potability</th>\n",
              "    </tr>\n",
              "  </thead>\n",
              "  <tbody>\n",
              "    <tr>\n",
              "      <th>count</th>\n",
              "      <td>2785.000000</td>\n",
              "      <td>3276.000000</td>\n",
              "      <td>3276.000000</td>\n",
              "      <td>3276.000000</td>\n",
              "      <td>2495.000000</td>\n",
              "      <td>3276.000000</td>\n",
              "      <td>3276.000000</td>\n",
              "      <td>3114.000000</td>\n",
              "      <td>3276.000000</td>\n",
              "      <td>3276.000000</td>\n",
              "    </tr>\n",
              "    <tr>\n",
              "      <th>mean</th>\n",
              "      <td>7.080795</td>\n",
              "      <td>196.369496</td>\n",
              "      <td>22014.092526</td>\n",
              "      <td>7.122277</td>\n",
              "      <td>333.775777</td>\n",
              "      <td>426.205111</td>\n",
              "      <td>14.284970</td>\n",
              "      <td>66.396293</td>\n",
              "      <td>3.966786</td>\n",
              "      <td>0.390110</td>\n",
              "    </tr>\n",
              "    <tr>\n",
              "      <th>std</th>\n",
              "      <td>1.594320</td>\n",
              "      <td>32.879761</td>\n",
              "      <td>8768.570828</td>\n",
              "      <td>1.583085</td>\n",
              "      <td>41.416840</td>\n",
              "      <td>80.824064</td>\n",
              "      <td>3.308162</td>\n",
              "      <td>16.175008</td>\n",
              "      <td>0.780382</td>\n",
              "      <td>0.487849</td>\n",
              "    </tr>\n",
              "    <tr>\n",
              "      <th>min</th>\n",
              "      <td>0.000000</td>\n",
              "      <td>47.432000</td>\n",
              "      <td>320.942611</td>\n",
              "      <td>0.352000</td>\n",
              "      <td>129.000000</td>\n",
              "      <td>181.483754</td>\n",
              "      <td>2.200000</td>\n",
              "      <td>0.738000</td>\n",
              "      <td>1.450000</td>\n",
              "      <td>0.000000</td>\n",
              "    </tr>\n",
              "    <tr>\n",
              "      <th>25%</th>\n",
              "      <td>6.093092</td>\n",
              "      <td>176.850538</td>\n",
              "      <td>15666.690297</td>\n",
              "      <td>6.127421</td>\n",
              "      <td>307.699498</td>\n",
              "      <td>365.734414</td>\n",
              "      <td>12.065801</td>\n",
              "      <td>55.844536</td>\n",
              "      <td>3.439711</td>\n",
              "      <td>0.000000</td>\n",
              "    </tr>\n",
              "    <tr>\n",
              "      <th>50%</th>\n",
              "      <td>7.036752</td>\n",
              "      <td>196.967627</td>\n",
              "      <td>20927.833607</td>\n",
              "      <td>7.130299</td>\n",
              "      <td>333.073546</td>\n",
              "      <td>421.884968</td>\n",
              "      <td>14.218338</td>\n",
              "      <td>66.622485</td>\n",
              "      <td>3.955028</td>\n",
              "      <td>0.000000</td>\n",
              "    </tr>\n",
              "    <tr>\n",
              "      <th>75%</th>\n",
              "      <td>8.062066</td>\n",
              "      <td>216.667456</td>\n",
              "      <td>27332.762127</td>\n",
              "      <td>8.114887</td>\n",
              "      <td>359.950170</td>\n",
              "      <td>481.792304</td>\n",
              "      <td>16.557652</td>\n",
              "      <td>77.337473</td>\n",
              "      <td>4.500320</td>\n",
              "      <td>1.000000</td>\n",
              "    </tr>\n",
              "    <tr>\n",
              "      <th>max</th>\n",
              "      <td>14.000000</td>\n",
              "      <td>323.124000</td>\n",
              "      <td>61227.196008</td>\n",
              "      <td>13.127000</td>\n",
              "      <td>481.030642</td>\n",
              "      <td>753.342620</td>\n",
              "      <td>28.300000</td>\n",
              "      <td>124.000000</td>\n",
              "      <td>6.739000</td>\n",
              "      <td>1.000000</td>\n",
              "    </tr>\n",
              "  </tbody>\n",
              "</table>\n",
              "</div>"
            ],
            "text/plain": [
              "                ph     Hardness  ...    Turbidity   Potability\n",
              "count  2785.000000  3276.000000  ...  3276.000000  3276.000000\n",
              "mean      7.080795   196.369496  ...     3.966786     0.390110\n",
              "std       1.594320    32.879761  ...     0.780382     0.487849\n",
              "min       0.000000    47.432000  ...     1.450000     0.000000\n",
              "25%       6.093092   176.850538  ...     3.439711     0.000000\n",
              "50%       7.036752   196.967627  ...     3.955028     0.000000\n",
              "75%       8.062066   216.667456  ...     4.500320     1.000000\n",
              "max      14.000000   323.124000  ...     6.739000     1.000000\n",
              "\n",
              "[8 rows x 10 columns]"
            ]
          },
          "metadata": {
            "tags": []
          },
          "execution_count": 4
        }
      ]
    },
    {
      "cell_type": "code",
      "metadata": {
        "id": "sXY_T85yg9-P",
        "colab": {
          "base_uri": "https://localhost:8080/",
          "height": 499
        },
        "outputId": "73e86ed0-315c-4dbf-83d8-8bc17aba18a4"
      },
      "source": [
        "dataset.hist()"
      ],
      "execution_count": null,
      "outputs": [
        {
          "output_type": "execute_result",
          "data": {
            "text/plain": [
              "array([[<matplotlib.axes._subplots.AxesSubplot object at 0x7f31c4bd2e10>,\n",
              "        <matplotlib.axes._subplots.AxesSubplot object at 0x7f31bd603310>,\n",
              "        <matplotlib.axes._subplots.AxesSubplot object at 0x7f31bd5bc990>],\n",
              "       [<matplotlib.axes._subplots.AxesSubplot object at 0x7f31bd568b10>,\n",
              "        <matplotlib.axes._subplots.AxesSubplot object at 0x7f31bd5336d0>,\n",
              "        <matplotlib.axes._subplots.AxesSubplot object at 0x7f31bd4de890>],\n",
              "       [<matplotlib.axes._subplots.AxesSubplot object at 0x7f31bd4b0a50>,\n",
              "        <matplotlib.axes._subplots.AxesSubplot object at 0x7f31bd4760d0>,\n",
              "        <matplotlib.axes._subplots.AxesSubplot object at 0x7f31bd476110>],\n",
              "       [<matplotlib.axes._subplots.AxesSubplot object at 0x7f31bd42d490>,\n",
              "        <matplotlib.axes._subplots.AxesSubplot object at 0x7f31bd3a3110>,\n",
              "        <matplotlib.axes._subplots.AxesSubplot object at 0x7f31bd3d6790>]],\n",
              "      dtype=object)"
            ]
          },
          "metadata": {
            "tags": []
          },
          "execution_count": 5
        },
        {
          "output_type": "display_data",
          "data": {
            "image/png": "[encoded data removed]",
            "text/plain": [
              "<Figure size 432x288 with 12 Axes>"
            ]
          },
          "metadata": {
            "tags": [],
            "needs_background": "light"
          }
        }
      ]
    },
    {
      "cell_type": "code",
      "metadata": {
        "colab": {
          "base_uri": "https://localhost:8080/"
        },
        "id": "KMd8dNt43Gqx",
        "outputId": "bd1ac012-2b72-4d13-c891-8178be994fb6"
      },
      "source": [
        "print(X[0])"
      ],
      "execution_count": null,
      "outputs": [
        {
          "output_type": "stream",
          "text": [
            "[           nan 2.04890455e+02 2.07913190e+04 7.30021187e+00\n",
            " 3.68516441e+02 5.64308654e+02 1.03797831e+01 8.69909705e+01\n",
            " 2.96313538e+00]\n"
          ],
          "name": "stdout"
        }
      ]
    },
    {
      "cell_type": "markdown",
      "metadata": {
        "id": "5QMD0UFA3wV0"
      },
      "source": [
        "# Preprocessing"
      ]
    },
    {
      "cell_type": "code",
      "metadata": {
        "id": "c93k7ipkSexq"
      },
      "source": [
        "from sklearn.impute import SimpleImputer\n",
        "imputer = SimpleImputer(missing_values=np.nan, strategy='mean')\n",
        "imputer.fit(X)\n",
        "X = imputer.transform(X)"
      ],
      "execution_count": null,
      "outputs": []
    },
    {
      "cell_type": "code",
      "metadata": {
        "colab": {
          "base_uri": "https://localhost:8080/"
        },
        "id": "EvQEq67u5pcX",
        "outputId": "3df06ab2-7879-49b2-c4ad-b58987e79d88"
      },
      "source": [
        "print(X[0])"
      ],
      "execution_count": null,
      "outputs": [
        {
          "output_type": "stream",
          "text": [
            "[7.08079450e+00 2.04890455e+02 2.07913190e+04 7.30021187e+00\n",
            " 3.68516441e+02 5.64308654e+02 1.03797831e+01 8.69909705e+01\n",
            " 2.96313538e+00]\n"
          ],
          "name": "stdout"
        }
      ]
    },
    {
      "cell_type": "code",
      "metadata": {
        "id": "pXgA6CzlqbCl"
      },
      "source": [
        "from sklearn.model_selection import train_test_split\n",
        "X_train, X_test, y_train, y_test = train_test_split(X, y, test_size = 0.2)"
      ],
      "execution_count": null,
      "outputs": []
    },
    {
      "cell_type": "code",
      "metadata": {
        "id": "AxjSUXFQqo-3"
      },
      "source": [
        "from sklearn.preprocessing import StandardScaler\n",
        "sc = StandardScaler()\n",
        "X_train = sc.fit_transform(X_train)\n",
        "X_test = sc.transform(X_test)"
      ],
      "execution_count": null,
      "outputs": []
    },
    {
      "cell_type": "markdown",
      "metadata": {
        "id": "yBAmYGOs6cYs"
      },
      "source": [
        "# Support Vector Machine"
      ]
    },
    {
      "cell_type": "code",
      "metadata": {
        "colab": {
          "base_uri": "https://localhost:8080/"
        },
        "id": "ABGg9YIz-SbL",
        "outputId": "31d8ff24-0ede-44c1-adb5-d972642d9a89"
      },
      "source": [
        "from sklearn.svm import SVC\n",
        "classifier_SVM = SVC(kernel = 'rbf')\n",
        "#Creating an instance of SVM with kernel type rbf (Radial Basis Function)\n",
        "#We are using rbf for a non-linear model \n",
        "#random_state for instruction purposes\n",
        "classifier_SVM.fit(X_train, y_train)"
      ],
      "execution_count": null,
      "outputs": [
        {
          "output_type": "execute_result",
          "data": {
            "text/plain": [
              "SVC(C=1.0, break_ties=False, cache_size=200, class_weight=None, coef0=0.0,\n",
              "    decision_function_shape='ovr', degree=3, gamma='scale', kernel='rbf',\n",
              "    max_iter=-1, probability=False, random_state=None, shrinking=True,\n",
              "    tol=0.001, verbose=False)"
            ]
          },
          "metadata": {
            "tags": []
          },
          "execution_count": 41
        }
      ]
    },
    {
      "cell_type": "markdown",
      "metadata": {
        "id": "QmlpPgLC6yUd"
      },
      "source": [
        "# Artificial Neural Network"
      ]
    },
    {
      "cell_type": "code",
      "metadata": {
        "colab": {
          "base_uri": "https://localhost:8080/"
        },
        "id": "Dmg3B9HC62Fl",
        "outputId": "520892fe-8c40-40b1-f89f-ecd33742a0ff"
      },
      "source": [
        "ann = tf.keras.models.Sequential()\n",
        "ann.add(tf.keras.layers.Dense(units = 6, activation='relu'))\n",
        "ann.add(tf.keras.layers.Dense(units = 6, activation='relu'))\n",
        "ann.add(tf.keras.layers.Dense(units = 6, activation='relu'))\n",
        "ann.add(tf.keras.layers.Dense(units = 1, activation='sigmoid'))\n",
        "ann.compile(optimizer = 'adam', loss = 'binary_crossentropy', metrics = ['accuracy'])\n",
        "ann.fit(X_train, y_train, batch_size = 32, epochs = 100)"
      ],
      "execution_count": null,
      "outputs": [
        {
          "output_type": "stream",
          "text": [
            "Epoch 1/100\n",
            "82/82 [==============================] - 1s 1ms/step - loss: 0.7055 - accuracy: 0.5099\n",
            "Epoch 2/100\n",
            "82/82 [==============================] - 0s 1ms/step - loss: 0.6756 - accuracy: 0.5878\n",
            "Epoch 3/100\n",
            "82/82 [==============================] - 0s 1ms/step - loss: 0.6686 - accuracy: 0.6218\n",
            "Epoch 4/100\n",
            "82/82 [==============================] - 0s 1ms/step - loss: 0.6644 - accuracy: 0.6286\n",
            "Epoch 5/100\n",
            "82/82 [==============================] - 0s 2ms/step - loss: 0.6607 - accuracy: 0.6282\n",
            "Epoch 6/100\n",
            "82/82 [==============================] - 0s 1ms/step - loss: 0.6575 - accuracy: 0.6336\n",
            "Epoch 7/100\n",
            "82/82 [==============================] - 0s 1ms/step - loss: 0.6552 - accuracy: 0.6294\n",
            "Epoch 8/100\n",
            "82/82 [==============================] - 0s 1ms/step - loss: 0.6527 - accuracy: 0.6378\n",
            "Epoch 9/100\n",
            "82/82 [==============================] - 0s 1ms/step - loss: 0.6496 - accuracy: 0.6382\n",
            "Epoch 10/100\n",
            "82/82 [==============================] - 0s 1ms/step - loss: 0.6472 - accuracy: 0.6397\n",
            "Epoch 11/100\n",
            "82/82 [==============================] - 0s 1ms/step - loss: 0.6449 - accuracy: 0.6405\n",
            "Epoch 12/100\n",
            "82/82 [==============================] - 0s 1ms/step - loss: 0.6422 - accuracy: 0.6454\n",
            "Epoch 13/100\n",
            "82/82 [==============================] - 0s 1ms/step - loss: 0.6403 - accuracy: 0.6450\n",
            "Epoch 14/100\n",
            "82/82 [==============================] - 0s 1ms/step - loss: 0.6386 - accuracy: 0.6492\n",
            "Epoch 15/100\n",
            "82/82 [==============================] - 0s 1ms/step - loss: 0.6366 - accuracy: 0.6534\n",
            "Epoch 16/100\n",
            "82/82 [==============================] - 0s 1ms/step - loss: 0.6350 - accuracy: 0.6542\n",
            "Epoch 17/100\n",
            "82/82 [==============================] - 0s 1ms/step - loss: 0.6339 - accuracy: 0.6542\n",
            "Epoch 18/100\n",
            "82/82 [==============================] - 0s 1ms/step - loss: 0.6324 - accuracy: 0.6565\n",
            "Epoch 19/100\n",
            "82/82 [==============================] - 0s 1ms/step - loss: 0.6307 - accuracy: 0.6588\n",
            "Epoch 20/100\n",
            "82/82 [==============================] - 0s 1ms/step - loss: 0.6297 - accuracy: 0.6607\n",
            "Epoch 21/100\n",
            "82/82 [==============================] - 0s 1ms/step - loss: 0.6283 - accuracy: 0.6611\n",
            "Epoch 22/100\n",
            "82/82 [==============================] - 0s 2ms/step - loss: 0.6267 - accuracy: 0.6561\n",
            "Epoch 23/100\n",
            "82/82 [==============================] - 0s 2ms/step - loss: 0.6260 - accuracy: 0.6580\n",
            "Epoch 24/100\n",
            "82/82 [==============================] - 0s 1ms/step - loss: 0.6248 - accuracy: 0.6637\n",
            "Epoch 25/100\n",
            "82/82 [==============================] - 0s 1ms/step - loss: 0.6235 - accuracy: 0.6641\n",
            "Epoch 26/100\n",
            "82/82 [==============================] - 0s 1ms/step - loss: 0.6222 - accuracy: 0.6668\n",
            "Epoch 27/100\n",
            "82/82 [==============================] - 0s 1ms/step - loss: 0.6217 - accuracy: 0.6683\n",
            "Epoch 28/100\n",
            "82/82 [==============================] - 0s 1ms/step - loss: 0.6205 - accuracy: 0.6656\n",
            "Epoch 29/100\n",
            "82/82 [==============================] - 0s 1ms/step - loss: 0.6197 - accuracy: 0.6660\n",
            "Epoch 30/100\n",
            "82/82 [==============================] - 0s 1ms/step - loss: 0.6189 - accuracy: 0.6664\n",
            "Epoch 31/100\n",
            "82/82 [==============================] - 0s 2ms/step - loss: 0.6179 - accuracy: 0.6695\n",
            "Epoch 32/100\n",
            "82/82 [==============================] - 0s 1ms/step - loss: 0.6173 - accuracy: 0.6683\n",
            "Epoch 33/100\n",
            "82/82 [==============================] - 0s 1ms/step - loss: 0.6170 - accuracy: 0.6710\n",
            "Epoch 34/100\n",
            "82/82 [==============================] - 0s 1ms/step - loss: 0.6157 - accuracy: 0.6725\n",
            "Epoch 35/100\n",
            "82/82 [==============================] - 0s 1ms/step - loss: 0.6152 - accuracy: 0.6771\n",
            "Epoch 36/100\n",
            "82/82 [==============================] - 0s 2ms/step - loss: 0.6143 - accuracy: 0.6775\n",
            "Epoch 37/100\n",
            "82/82 [==============================] - 0s 1ms/step - loss: 0.6140 - accuracy: 0.6763\n",
            "Epoch 38/100\n",
            "82/82 [==============================] - 0s 1ms/step - loss: 0.6137 - accuracy: 0.6752\n",
            "Epoch 39/100\n",
            "82/82 [==============================] - 0s 2ms/step - loss: 0.6131 - accuracy: 0.6786\n",
            "Epoch 40/100\n",
            "82/82 [==============================] - 0s 1ms/step - loss: 0.6131 - accuracy: 0.6767\n",
            "Epoch 41/100\n",
            "82/82 [==============================] - 0s 2ms/step - loss: 0.6114 - accuracy: 0.6763\n",
            "Epoch 42/100\n",
            "82/82 [==============================] - 0s 1ms/step - loss: 0.6106 - accuracy: 0.6802\n",
            "Epoch 43/100\n",
            "82/82 [==============================] - 0s 2ms/step - loss: 0.6096 - accuracy: 0.6798\n",
            "Epoch 44/100\n",
            "82/82 [==============================] - 0s 1ms/step - loss: 0.6091 - accuracy: 0.6763\n",
            "Epoch 45/100\n",
            "82/82 [==============================] - 0s 1ms/step - loss: 0.6086 - accuracy: 0.6794\n",
            "Epoch 46/100\n",
            "82/82 [==============================] - 0s 1ms/step - loss: 0.6076 - accuracy: 0.6802\n",
            "Epoch 47/100\n",
            "82/82 [==============================] - 0s 1ms/step - loss: 0.6075 - accuracy: 0.6809\n",
            "Epoch 48/100\n",
            "82/82 [==============================] - 0s 2ms/step - loss: 0.6063 - accuracy: 0.6779\n",
            "Epoch 49/100\n",
            "82/82 [==============================] - 0s 1ms/step - loss: 0.6059 - accuracy: 0.6828\n",
            "Epoch 50/100\n",
            "82/82 [==============================] - 0s 1ms/step - loss: 0.6055 - accuracy: 0.6832\n",
            "Epoch 51/100\n",
            "82/82 [==============================] - 0s 1ms/step - loss: 0.6049 - accuracy: 0.6828\n",
            "Epoch 52/100\n",
            "82/82 [==============================] - 0s 1ms/step - loss: 0.6043 - accuracy: 0.6802\n",
            "Epoch 53/100\n",
            "82/82 [==============================] - 0s 1ms/step - loss: 0.6040 - accuracy: 0.6836\n",
            "Epoch 54/100\n",
            "82/82 [==============================] - 0s 1ms/step - loss: 0.6043 - accuracy: 0.6832\n",
            "Epoch 55/100\n",
            "82/82 [==============================] - 0s 1ms/step - loss: 0.6036 - accuracy: 0.6813\n",
            "Epoch 56/100\n",
            "82/82 [==============================] - 0s 2ms/step - loss: 0.6032 - accuracy: 0.6813\n",
            "Epoch 57/100\n",
            "82/82 [==============================] - 0s 1ms/step - loss: 0.6025 - accuracy: 0.6847\n",
            "Epoch 58/100\n",
            "82/82 [==============================] - 0s 1ms/step - loss: 0.6021 - accuracy: 0.6885\n",
            "Epoch 59/100\n",
            "82/82 [==============================] - 0s 1ms/step - loss: 0.6021 - accuracy: 0.6863\n",
            "Epoch 60/100\n",
            "82/82 [==============================] - 0s 2ms/step - loss: 0.6016 - accuracy: 0.6840\n",
            "Epoch 61/100\n",
            "82/82 [==============================] - 0s 2ms/step - loss: 0.6015 - accuracy: 0.6851\n",
            "Epoch 62/100\n",
            "82/82 [==============================] - 0s 2ms/step - loss: 0.6011 - accuracy: 0.6847\n",
            "Epoch 63/100\n",
            "82/82 [==============================] - 0s 2ms/step - loss: 0.6007 - accuracy: 0.6844\n",
            "Epoch 64/100\n",
            "82/82 [==============================] - 0s 1ms/step - loss: 0.6013 - accuracy: 0.6847\n",
            "Epoch 65/100\n",
            "82/82 [==============================] - 0s 2ms/step - loss: 0.6005 - accuracy: 0.6847\n",
            "Epoch 66/100\n",
            "82/82 [==============================] - 0s 1ms/step - loss: 0.6009 - accuracy: 0.6844\n",
            "Epoch 67/100\n",
            "82/82 [==============================] - 0s 1ms/step - loss: 0.5998 - accuracy: 0.6847\n",
            "Epoch 68/100\n",
            "82/82 [==============================] - 0s 2ms/step - loss: 0.5998 - accuracy: 0.6859\n",
            "Epoch 69/100\n",
            "82/82 [==============================] - 0s 1ms/step - loss: 0.5998 - accuracy: 0.6863\n",
            "Epoch 70/100\n",
            "82/82 [==============================] - 0s 1ms/step - loss: 0.6000 - accuracy: 0.6832\n",
            "Epoch 71/100\n",
            "82/82 [==============================] - 0s 1ms/step - loss: 0.5994 - accuracy: 0.6844\n",
            "Epoch 72/100\n",
            "82/82 [==============================] - 0s 1ms/step - loss: 0.5996 - accuracy: 0.6859\n",
            "Epoch 73/100\n",
            "82/82 [==============================] - 0s 2ms/step - loss: 0.5992 - accuracy: 0.6866\n",
            "Epoch 74/100\n",
            "82/82 [==============================] - 0s 1ms/step - loss: 0.5993 - accuracy: 0.6836\n",
            "Epoch 75/100\n",
            "82/82 [==============================] - 0s 1ms/step - loss: 0.5989 - accuracy: 0.6847\n",
            "Epoch 76/100\n",
            "82/82 [==============================] - 0s 1ms/step - loss: 0.5990 - accuracy: 0.6840\n",
            "Epoch 77/100\n",
            "82/82 [==============================] - 0s 1ms/step - loss: 0.5991 - accuracy: 0.6832\n",
            "Epoch 78/100\n",
            "82/82 [==============================] - 0s 2ms/step - loss: 0.5992 - accuracy: 0.6859\n",
            "Epoch 79/100\n",
            "82/82 [==============================] - 0s 1ms/step - loss: 0.5986 - accuracy: 0.6844\n",
            "Epoch 80/100\n",
            "82/82 [==============================] - 0s 1ms/step - loss: 0.5987 - accuracy: 0.6859\n",
            "Epoch 81/100\n",
            "82/82 [==============================] - 0s 1ms/step - loss: 0.5984 - accuracy: 0.6878\n",
            "Epoch 82/100\n",
            "82/82 [==============================] - 0s 1ms/step - loss: 0.5983 - accuracy: 0.6870\n",
            "Epoch 83/100\n",
            "82/82 [==============================] - 0s 1ms/step - loss: 0.5982 - accuracy: 0.6866\n",
            "Epoch 84/100\n",
            "82/82 [==============================] - 0s 1ms/step - loss: 0.5977 - accuracy: 0.6863\n",
            "Epoch 85/100\n",
            "82/82 [==============================] - 0s 1ms/step - loss: 0.5982 - accuracy: 0.6866\n",
            "Epoch 86/100\n",
            "82/82 [==============================] - 0s 1ms/step - loss: 0.5975 - accuracy: 0.6847\n",
            "Epoch 87/100\n",
            "82/82 [==============================] - 0s 1ms/step - loss: 0.5974 - accuracy: 0.6859\n",
            "Epoch 88/100\n",
            "82/82 [==============================] - 0s 2ms/step - loss: 0.5977 - accuracy: 0.6832\n",
            "Epoch 89/100\n",
            "82/82 [==============================] - 0s 2ms/step - loss: 0.5976 - accuracy: 0.6851\n",
            "Epoch 90/100\n",
            "82/82 [==============================] - 0s 1ms/step - loss: 0.5977 - accuracy: 0.6863\n",
            "Epoch 91/100\n",
            "82/82 [==============================] - 0s 1ms/step - loss: 0.5977 - accuracy: 0.6855\n",
            "Epoch 92/100\n",
            "82/82 [==============================] - 0s 1ms/step - loss: 0.5971 - accuracy: 0.6889\n",
            "Epoch 93/100\n",
            "82/82 [==============================] - 0s 1ms/step - loss: 0.5975 - accuracy: 0.6847\n",
            "Epoch 94/100\n",
            "82/82 [==============================] - 0s 1ms/step - loss: 0.5973 - accuracy: 0.6828\n",
            "Epoch 95/100\n",
            "82/82 [==============================] - 0s 1ms/step - loss: 0.5966 - accuracy: 0.6847\n",
            "Epoch 96/100\n",
            "82/82 [==============================] - 0s 1ms/step - loss: 0.5972 - accuracy: 0.6832\n",
            "Epoch 97/100\n",
            "82/82 [==============================] - 0s 1ms/step - loss: 0.5971 - accuracy: 0.6855\n",
            "Epoch 98/100\n",
            "82/82 [==============================] - 0s 1ms/step - loss: 0.5969 - accuracy: 0.6844\n",
            "Epoch 99/100\n",
            "82/82 [==============================] - 0s 1ms/step - loss: 0.5967 - accuracy: 0.6870\n",
            "Epoch 100/100\n",
            "82/82 [==============================] - 0s 1ms/step - loss: 0.5969 - accuracy: 0.6840\n"
          ],
          "name": "stdout"
        },
        {
          "output_type": "execute_result",
          "data": {
            "text/plain": [
              "<tensorflow.python.keras.callbacks.History at 0x7f7e6fa06750>"
            ]
          },
          "metadata": {
            "tags": []
          },
          "execution_count": 44
        }
      ]
    },
    {
      "cell_type": "markdown",
      "metadata": {
        "id": "ukJbY0Mp92Mh"
      },
      "source": [
        "# Results for SVM"
      ]
    },
    {
      "cell_type": "code",
      "metadata": {
        "id": "zrYlCX5g-23H"
      },
      "source": [
        "y_pred_SVM = classifier_SVM.predict(X_test)"
      ],
      "execution_count": null,
      "outputs": []
    },
    {
      "cell_type": "code",
      "metadata": {
        "colab": {
          "base_uri": "https://localhost:8080/",
          "height": 330
        },
        "id": "Jjq3nblpbG-N",
        "outputId": "28bae43a-84df-42a4-add8-609839f08e86"
      },
      "source": [
        "from sklearn.metrics import ConfusionMatrixDisplay,confusion_matrix, accuracy_score\n",
        "#Importing three classes from the same module easily\n",
        "#1st is to plot, 2nd is for the matrix, 3rd is for accuracy\n",
        "cm = confusion_matrix(y_test, y_pred_SVM) #Making confusion matrix\n",
        "print(cm)\n",
        "ConfusionMatrixDisplay(cm,['Not Drinkable','Drinkable']).plot()\n",
        "#Confusion matrix, the columns represent the predicted NO and YES\n",
        "#The rows represent the real NO and YES\n",
        "#The matrix values represent the observations that come under it\n",
        "#So (0,0) is number of observations that we predicted no and are really no\n",
        "print(accuracy_score(y_test, y_pred_SVM))\n",
        "#Prints accuracy as a decimal representing a percentage"
      ],
      "execution_count": null,
      "outputs": [
        {
          "output_type": "stream",
          "text": [
            "[[388  26]\n",
            " [171  71]]\n",
            "0.6996951219512195\n"
          ],
          "name": "stdout"
        },
        {
          "output_type": "display_data",
          "data": {
            "image/png": "[encoded data removed]",
            "text/plain": [
              "<Figure size 432x288 with 2 Axes>"
            ]
          },
          "metadata": {
            "tags": [],
            "needs_background": "light"
          }
        }
      ]
    },
    {
      "cell_type": "code",
      "metadata": {
        "colab": {
          "base_uri": "https://localhost:8080/"
        },
        "id": "Wc8qcCeISgXj",
        "outputId": "0925dd2f-fa56-4e9e-a293-5f95ee89687b"
      },
      "source": [
        "from sklearn.model_selection import cross_val_score\n",
        "accuracies = cross_val_score(estimator = classifier_SVM, X = X_train, y = y_train, cv=10)\n",
        "print(\"Accuracy: (:.2f) %\"+format(accuracies.mean()*100))\n",
        "print(\"Standard Deviation: (:.2f) %\"+format(accuracies.std()*100))\n",
        "#Basically in k fold cross validation, you take a dataset and divide it into K folds (divisions)\n",
        "#Here, we have chosen 10 folds and what we will do is use K-1 of them to train the model\n",
        "#And use 1 as the test set, we then rotate so that every division becomes the test set\n",
        "#Meaning we will have K test sets or in our case 10 test sets\n",
        "#With these 10 variations, we can calculate the acccuracy for each and get an average accuracy\n",
        "#This technique is quite accurate"
      ],
      "execution_count": null,
      "outputs": [
        {
          "output_type": "stream",
          "text": [
            "Accuracy: (:.2f) %66.5267175572519\n",
            "Standard Deviation: (:.2f) %1.2664625971784\n"
          ],
          "name": "stdout"
        }
      ]
    },
    {
      "cell_type": "markdown",
      "metadata": {
        "id": "2Q06nRUA_rxX"
      },
      "source": [
        "# Results for ANN"
      ]
    },
    {
      "cell_type": "code",
      "metadata": {
        "id": "Y20C42HQ_uAZ"
      },
      "source": [
        "y_pred_ANN = ann.predict(X_test)\n",
        "y_pred_ANN = (y_pred_ANN >= 0.5)"
      ],
      "execution_count": null,
      "outputs": []
    },
    {
      "cell_type": "code",
      "metadata": {
        "colab": {
          "base_uri": "https://localhost:8080/",
          "height": 330
        },
        "id": "OgAXDRRq_xPV",
        "outputId": "1d61a13f-8e14-4b11-f6be-1ccc1ca6f9f4"
      },
      "source": [
        "from sklearn.metrics import ConfusionMatrixDisplay,confusion_matrix, accuracy_score\n",
        "#Importing three classes from the same module easily\n",
        "#1st is to plot, 2nd is for the matrix, 3rd is for accuracy\n",
        "cm = confusion_matrix(y_test, y_pred_ANN) #Making confusion matrix\n",
        "print(cm)\n",
        "ConfusionMatrixDisplay(cm,['Not Drinkable','Drinkable']).plot()\n",
        "#Confusion matrix, the columns represent the predicted NO and YES\n",
        "#The rows represent the real NO and YES\n",
        "#The matrix values represent the observations that come under it\n",
        "#So (0,0) is number of observations that we predicted no and are really no\n",
        "print(accuracy_score(y_test, y_pred_ANN))\n",
        "#Prints accuracy as a decimal representing a percentage"
      ],
      "execution_count": null,
      "outputs": [
        {
          "output_type": "stream",
          "text": [
            "[[364  50]\n",
            " [149  93]]\n",
            "0.6966463414634146\n"
          ],
          "name": "stdout"
        },
        {
          "output_type": "display_data",
          "data": {
            "image/png": "[encoded data removed]",
            "text/plain": [
              "<Figure size 432x288 with 2 Axes>"
            ]
          },
          "metadata": {
            "tags": [],
            "needs_background": "light"
          }
        }
      ]
    }
  ]
}
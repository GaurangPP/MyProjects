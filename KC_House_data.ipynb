{
  "nbformat": 4,
  "nbformat_minor": 0,
  "metadata": {
    "colab": {
      "name": "KC_House_data.ipynb",
      "provenance": [],
      "authorship_tag": "ABX9TyPTQEnpzeDimKXve1iDyGAj",
      "include_colab_link": true
    },
    "kernelspec": {
      "name": "python3",
      "display_name": "Python 3"
    },
    "language_info": {
      "name": "python"
    }
  },
  "cells": [
    {
      "cell_type": "markdown",
      "metadata": {
        "id": "view-in-github",
        "colab_type": "text"
      },
      "source": [
        "<a href=\"https://colab.research.google.com/github/GaurangPP/MyProjects/blob/main/KC_House_data.ipynb\" target=\"_parent\"><img src=\"https://colab.research.google.com/assets/colab-badge.svg\" alt=\"Open In Colab\"/></a>"
      ]
    },
    {
      "cell_type": "markdown",
      "metadata": {
        "id": "FmnFstn9Ylj9"
      },
      "source": [
        "#Preprocessing"
      ]
    },
    {
      "cell_type": "markdown",
      "metadata": {
        "id": "ySsu5yKYYsdD"
      },
      "source": [
        "Dataset can be found by going to Machine Learning - Datasets! - kc_house_data.csv"
      ]
    },
    {
      "cell_type": "code",
      "metadata": {
        "id": "Qi41Ay4HYqe0"
      },
      "source": [
        "import numpy as np\n",
        "import matplotlib.pyplot as plt\n",
        "import pandas as pd\n",
        "import tensorflow as tf"
      ],
      "execution_count": 2,
      "outputs": []
    },
    {
      "cell_type": "code",
      "metadata": {
        "id": "xqdRl3RZZMBm"
      },
      "source": [
        "dataset = pd.read_csv('kc_house_data.csv')\n",
        "X = dataset.iloc[:,3:].values\n",
        "y = dataset.iloc[:,2].values"
      ],
      "execution_count": 3,
      "outputs": []
    },
    {
      "cell_type": "code",
      "metadata": {
        "colab": {
          "base_uri": "https://localhost:8080/",
          "height": 320
        },
        "id": "wiS7M93RbuvU",
        "outputId": "69b3e0c9-07f3-4a90-8ce7-33b22aecfb05"
      },
      "source": [
        "dataset.describe()"
      ],
      "execution_count": 4,
      "outputs": [
        {
          "output_type": "execute_result",
          "data": {
            "text/html": [
              "<div>\n",
              "<style scoped>\n",
              "    .dataframe tbody tr th:only-of-type {\n",
              "        vertical-align: middle;\n",
              "    }\n",
              "\n",
              "    .dataframe tbody tr th {\n",
              "        vertical-align: top;\n",
              "    }\n",
              "\n",
              "    .dataframe thead th {\n",
              "        text-align: right;\n",
              "    }\n",
              "</style>\n",
              "<table border=\"1\" class=\"dataframe\">\n",
              "  <thead>\n",
              "    <tr style=\"text-align: right;\">\n",
              "      <th></th>\n",
              "      <th>id</th>\n",
              "      <th>price</th>\n",
              "      <th>bedrooms</th>\n",
              "      <th>bathrooms</th>\n",
              "      <th>sqft_living</th>\n",
              "      <th>sqft_lot</th>\n",
              "      <th>floors</th>\n",
              "      <th>waterfront</th>\n",
              "      <th>view</th>\n",
              "      <th>condition</th>\n",
              "      <th>grade</th>\n",
              "      <th>sqft_above</th>\n",
              "      <th>sqft_basement</th>\n",
              "      <th>yr_built</th>\n",
              "      <th>yr_renovated</th>\n",
              "      <th>zipcode</th>\n",
              "      <th>lat</th>\n",
              "      <th>long</th>\n",
              "      <th>sqft_living15</th>\n",
              "      <th>sqft_lot15</th>\n",
              "    </tr>\n",
              "  </thead>\n",
              "  <tbody>\n",
              "    <tr>\n",
              "      <th>count</th>\n",
              "      <td>2.161300e+04</td>\n",
              "      <td>2.161300e+04</td>\n",
              "      <td>21613.000000</td>\n",
              "      <td>21613.000000</td>\n",
              "      <td>21613.000000</td>\n",
              "      <td>2.161300e+04</td>\n",
              "      <td>21613.000000</td>\n",
              "      <td>21613.000000</td>\n",
              "      <td>21613.000000</td>\n",
              "      <td>21613.000000</td>\n",
              "      <td>21613.000000</td>\n",
              "      <td>21613.000000</td>\n",
              "      <td>21613.000000</td>\n",
              "      <td>21613.000000</td>\n",
              "      <td>21613.000000</td>\n",
              "      <td>21613.000000</td>\n",
              "      <td>21613.000000</td>\n",
              "      <td>21613.000000</td>\n",
              "      <td>21613.000000</td>\n",
              "      <td>21613.000000</td>\n",
              "    </tr>\n",
              "    <tr>\n",
              "      <th>mean</th>\n",
              "      <td>4.580302e+09</td>\n",
              "      <td>5.400881e+05</td>\n",
              "      <td>3.370842</td>\n",
              "      <td>2.114757</td>\n",
              "      <td>2079.899736</td>\n",
              "      <td>1.510697e+04</td>\n",
              "      <td>1.494309</td>\n",
              "      <td>0.007542</td>\n",
              "      <td>0.234303</td>\n",
              "      <td>3.409430</td>\n",
              "      <td>7.656873</td>\n",
              "      <td>1788.390691</td>\n",
              "      <td>291.509045</td>\n",
              "      <td>1971.005136</td>\n",
              "      <td>84.402258</td>\n",
              "      <td>98077.939805</td>\n",
              "      <td>47.560053</td>\n",
              "      <td>-122.213896</td>\n",
              "      <td>1986.552492</td>\n",
              "      <td>12768.455652</td>\n",
              "    </tr>\n",
              "    <tr>\n",
              "      <th>std</th>\n",
              "      <td>2.876566e+09</td>\n",
              "      <td>3.671272e+05</td>\n",
              "      <td>0.930062</td>\n",
              "      <td>0.770163</td>\n",
              "      <td>918.440897</td>\n",
              "      <td>4.142051e+04</td>\n",
              "      <td>0.539989</td>\n",
              "      <td>0.086517</td>\n",
              "      <td>0.766318</td>\n",
              "      <td>0.650743</td>\n",
              "      <td>1.175459</td>\n",
              "      <td>828.090978</td>\n",
              "      <td>442.575043</td>\n",
              "      <td>29.373411</td>\n",
              "      <td>401.679240</td>\n",
              "      <td>53.505026</td>\n",
              "      <td>0.138564</td>\n",
              "      <td>0.140828</td>\n",
              "      <td>685.391304</td>\n",
              "      <td>27304.179631</td>\n",
              "    </tr>\n",
              "    <tr>\n",
              "      <th>min</th>\n",
              "      <td>1.000102e+06</td>\n",
              "      <td>7.500000e+04</td>\n",
              "      <td>0.000000</td>\n",
              "      <td>0.000000</td>\n",
              "      <td>290.000000</td>\n",
              "      <td>5.200000e+02</td>\n",
              "      <td>1.000000</td>\n",
              "      <td>0.000000</td>\n",
              "      <td>0.000000</td>\n",
              "      <td>1.000000</td>\n",
              "      <td>1.000000</td>\n",
              "      <td>290.000000</td>\n",
              "      <td>0.000000</td>\n",
              "      <td>1900.000000</td>\n",
              "      <td>0.000000</td>\n",
              "      <td>98001.000000</td>\n",
              "      <td>47.155900</td>\n",
              "      <td>-122.519000</td>\n",
              "      <td>399.000000</td>\n",
              "      <td>651.000000</td>\n",
              "    </tr>\n",
              "    <tr>\n",
              "      <th>25%</th>\n",
              "      <td>2.123049e+09</td>\n",
              "      <td>3.219500e+05</td>\n",
              "      <td>3.000000</td>\n",
              "      <td>1.750000</td>\n",
              "      <td>1427.000000</td>\n",
              "      <td>5.040000e+03</td>\n",
              "      <td>1.000000</td>\n",
              "      <td>0.000000</td>\n",
              "      <td>0.000000</td>\n",
              "      <td>3.000000</td>\n",
              "      <td>7.000000</td>\n",
              "      <td>1190.000000</td>\n",
              "      <td>0.000000</td>\n",
              "      <td>1951.000000</td>\n",
              "      <td>0.000000</td>\n",
              "      <td>98033.000000</td>\n",
              "      <td>47.471000</td>\n",
              "      <td>-122.328000</td>\n",
              "      <td>1490.000000</td>\n",
              "      <td>5100.000000</td>\n",
              "    </tr>\n",
              "    <tr>\n",
              "      <th>50%</th>\n",
              "      <td>3.904930e+09</td>\n",
              "      <td>4.500000e+05</td>\n",
              "      <td>3.000000</td>\n",
              "      <td>2.250000</td>\n",
              "      <td>1910.000000</td>\n",
              "      <td>7.618000e+03</td>\n",
              "      <td>1.500000</td>\n",
              "      <td>0.000000</td>\n",
              "      <td>0.000000</td>\n",
              "      <td>3.000000</td>\n",
              "      <td>7.000000</td>\n",
              "      <td>1560.000000</td>\n",
              "      <td>0.000000</td>\n",
              "      <td>1975.000000</td>\n",
              "      <td>0.000000</td>\n",
              "      <td>98065.000000</td>\n",
              "      <td>47.571800</td>\n",
              "      <td>-122.230000</td>\n",
              "      <td>1840.000000</td>\n",
              "      <td>7620.000000</td>\n",
              "    </tr>\n",
              "    <tr>\n",
              "      <th>75%</th>\n",
              "      <td>7.308900e+09</td>\n",
              "      <td>6.450000e+05</td>\n",
              "      <td>4.000000</td>\n",
              "      <td>2.500000</td>\n",
              "      <td>2550.000000</td>\n",
              "      <td>1.068800e+04</td>\n",
              "      <td>2.000000</td>\n",
              "      <td>0.000000</td>\n",
              "      <td>0.000000</td>\n",
              "      <td>4.000000</td>\n",
              "      <td>8.000000</td>\n",
              "      <td>2210.000000</td>\n",
              "      <td>560.000000</td>\n",
              "      <td>1997.000000</td>\n",
              "      <td>0.000000</td>\n",
              "      <td>98118.000000</td>\n",
              "      <td>47.678000</td>\n",
              "      <td>-122.125000</td>\n",
              "      <td>2360.000000</td>\n",
              "      <td>10083.000000</td>\n",
              "    </tr>\n",
              "    <tr>\n",
              "      <th>max</th>\n",
              "      <td>9.900000e+09</td>\n",
              "      <td>7.700000e+06</td>\n",
              "      <td>33.000000</td>\n",
              "      <td>8.000000</td>\n",
              "      <td>13540.000000</td>\n",
              "      <td>1.651359e+06</td>\n",
              "      <td>3.500000</td>\n",
              "      <td>1.000000</td>\n",
              "      <td>4.000000</td>\n",
              "      <td>5.000000</td>\n",
              "      <td>13.000000</td>\n",
              "      <td>9410.000000</td>\n",
              "      <td>4820.000000</td>\n",
              "      <td>2015.000000</td>\n",
              "      <td>2015.000000</td>\n",
              "      <td>98199.000000</td>\n",
              "      <td>47.777600</td>\n",
              "      <td>-121.315000</td>\n",
              "      <td>6210.000000</td>\n",
              "      <td>871200.000000</td>\n",
              "    </tr>\n",
              "  </tbody>\n",
              "</table>\n",
              "</div>"
            ],
            "text/plain": [
              "                 id         price  ...  sqft_living15     sqft_lot15\n",
              "count  2.161300e+04  2.161300e+04  ...   21613.000000   21613.000000\n",
              "mean   4.580302e+09  5.400881e+05  ...    1986.552492   12768.455652\n",
              "std    2.876566e+09  3.671272e+05  ...     685.391304   27304.179631\n",
              "min    1.000102e+06  7.500000e+04  ...     399.000000     651.000000\n",
              "25%    2.123049e+09  3.219500e+05  ...    1490.000000    5100.000000\n",
              "50%    3.904930e+09  4.500000e+05  ...    1840.000000    7620.000000\n",
              "75%    7.308900e+09  6.450000e+05  ...    2360.000000   10083.000000\n",
              "max    9.900000e+09  7.700000e+06  ...    6210.000000  871200.000000\n",
              "\n",
              "[8 rows x 20 columns]"
            ]
          },
          "metadata": {},
          "execution_count": 4
        }
      ]
    },
    {
      "cell_type": "code",
      "metadata": {
        "id": "speXgcJmrUsD"
      },
      "source": [
        "y = y.reshape(len(y),1) "
      ],
      "execution_count": 5,
      "outputs": []
    },
    {
      "cell_type": "code",
      "metadata": {
        "colab": {
          "base_uri": "https://localhost:8080/"
        },
        "id": "mK4PKUwAZ_MU",
        "outputId": "4c7e7d92-d714-4711-87ba-72409b1058bc"
      },
      "source": [
        "print(X[0])\n",
        "print(X.shape)"
      ],
      "execution_count": 6,
      "outputs": [
        {
          "output_type": "stream",
          "name": "stdout",
          "text": [
            "[ 3.00000e+00  1.00000e+00  1.18000e+03  5.65000e+03  1.00000e+00\n",
            "  0.00000e+00  0.00000e+00  3.00000e+00  7.00000e+00  1.18000e+03\n",
            "  0.00000e+00  1.95500e+03  0.00000e+00  9.81780e+04  4.75112e+01\n",
            " -1.22257e+02  1.34000e+03  5.65000e+03]\n",
            "(21613, 18)\n"
          ]
        }
      ]
    },
    {
      "cell_type": "code",
      "metadata": {
        "colab": {
          "base_uri": "https://localhost:8080/"
        },
        "id": "jpEWB-djabXy",
        "outputId": "df9956f4-882b-4864-df7f-3d3f109c83e4"
      },
      "source": [
        "print(y[0])"
      ],
      "execution_count": 7,
      "outputs": [
        {
          "output_type": "stream",
          "name": "stdout",
          "text": [
            "[221900.]\n"
          ]
        }
      ]
    },
    {
      "cell_type": "code",
      "metadata": {
        "id": "pXgA6CzlqbCl"
      },
      "source": [
        "from sklearn.model_selection import train_test_split\n",
        "X_train, X_test, y_train, y_test = train_test_split(X, y, test_size = 0.2)"
      ],
      "execution_count": 9,
      "outputs": []
    },
    {
      "cell_type": "code",
      "metadata": {
        "id": "AxjSUXFQqo-3"
      },
      "source": [
        "from sklearn.preprocessing import StandardScaler\n",
        "sc_X = StandardScaler() #We are creating two objects so that the mean and\n",
        "sc_y = StandardScaler() #Standard deviation (features & DV) are calculated separately\n",
        "X_train = sc_X.fit_transform(X_train) #Scaling both feature and dependent variable\n",
        "y_train = sc_y.fit_transform(y_train)  #Using standardization"
      ],
      "execution_count": 10,
      "outputs": []
    },
    {
      "cell_type": "markdown",
      "metadata": {
        "id": "vTrmvHVprqct"
      },
      "source": [
        "#Models"
      ]
    },
    {
      "cell_type": "markdown",
      "metadata": {
        "id": "ktFIrhnOrs0L"
      },
      "source": [
        "##Support Vector Regression"
      ]
    },
    {
      "cell_type": "code",
      "metadata": {
        "colab": {
          "base_uri": "https://localhost:8080/"
        },
        "id": "8m7Rm_AIv1Rt",
        "outputId": "3df4b8e7-f3bc-4f89-887b-57fc23bab93e"
      },
      "source": [
        "from sklearn.svm import SVR\n",
        "regressor_SVR = SVR(kernel = 'rbf')\n",
        "#We are creating an object and the parameter is the type of SVR\n",
        "#We are using radial basis function which is a great kernel to use\n",
        "regressor_SVR.fit(X_train, y_train) #Fitting and training the model onto X and y"
      ],
      "execution_count": 11,
      "outputs": [
        {
          "output_type": "stream",
          "name": "stderr",
          "text": [
            "/usr/local/lib/python3.7/dist-packages/sklearn/utils/validation.py:985: DataConversionWarning: A column-vector y was passed when a 1d array was expected. Please change the shape of y to (n_samples, ), for example using ravel().\n",
            "  y = column_or_1d(y, warn=True)\n"
          ]
        },
        {
          "output_type": "execute_result",
          "data": {
            "text/plain": [
              "SVR()"
            ]
          },
          "metadata": {},
          "execution_count": 11
        }
      ]
    },
    {
      "cell_type": "markdown",
      "metadata": {
        "id": "lhV_oCgMuB_C"
      },
      "source": [
        "##XGBoost"
      ]
    },
    {
      "cell_type": "code",
      "metadata": {
        "colab": {
          "base_uri": "https://localhost:8080/"
        },
        "id": "EKZTJjH1sCZG",
        "outputId": "eb1d2afd-c79a-4eae-fdf4-76866c4b2b87"
      },
      "source": [
        "from xgboost import XGBRegressor\n",
        "regressor_XGB = XGBRegressor()\n",
        "regressor_XGB.fit(X_train, y_train)"
      ],
      "execution_count": 12,
      "outputs": [
        {
          "output_type": "stream",
          "name": "stdout",
          "text": [
            "[23:59:47] WARNING: /workspace/src/objective/regression_obj.cu:152: reg:linear is now deprecated in favor of reg:squarederror.\n"
          ]
        },
        {
          "output_type": "execute_result",
          "data": {
            "text/plain": [
              "XGBRegressor()"
            ]
          },
          "metadata": {},
          "execution_count": 12
        }
      ]
    },
    {
      "cell_type": "markdown",
      "metadata": {
        "id": "HWM9v0VuuIhB"
      },
      "source": [
        "##ANN"
      ]
    },
    {
      "cell_type": "code",
      "metadata": {
        "id": "8xF0t3UFuKPw"
      },
      "source": [
        "ann = tf.keras.models.Sequential()"
      ],
      "execution_count": 13,
      "outputs": []
    },
    {
      "cell_type": "code",
      "metadata": {
        "id": "jps45831uRVi"
      },
      "source": [
        "ann.add(tf.keras.layers.Dense(units=10, activation='relu'))"
      ],
      "execution_count": 14,
      "outputs": []
    },
    {
      "cell_type": "code",
      "metadata": {
        "id": "ZlmP09yjuWHh"
      },
      "source": [
        "ann.add(tf.keras.layers.Dense(units=10, activation='relu'))"
      ],
      "execution_count": 15,
      "outputs": []
    },
    {
      "cell_type": "code",
      "metadata": {
        "id": "9uE2sBBrujp1"
      },
      "source": [
        "ann.add(tf.keras.layers.Dense(units=1))"
      ],
      "execution_count": 16,
      "outputs": []
    },
    {
      "cell_type": "code",
      "metadata": {
        "id": "W7X_bKN6vStL"
      },
      "source": [
        "ann.compile(optimizer = 'adam', loss = 'mean_squared_error')"
      ],
      "execution_count": 17,
      "outputs": []
    },
    {
      "cell_type": "code",
      "metadata": {
        "colab": {
          "base_uri": "https://localhost:8080/"
        },
        "id": "THzxHK-4vYgj",
        "outputId": "d3bbd5d3-f04c-47c4-ad8a-cd1b09d3ff36"
      },
      "source": [
        "ann.fit(X_train, y_train, batch_size = 32, epochs = 100)"
      ],
      "execution_count": 18,
      "outputs": [
        {
          "output_type": "stream",
          "name": "stdout",
          "text": [
            "Epoch 1/100\n",
            "541/541 [==============================] - 1s 1ms/step - loss: 0.3722\n",
            "Epoch 2/100\n",
            "541/541 [==============================] - 1s 1ms/step - loss: 0.2459\n",
            "Epoch 3/100\n",
            "541/541 [==============================] - 1s 1ms/step - loss: 0.2177\n",
            "Epoch 4/100\n",
            "541/541 [==============================] - 1s 1ms/step - loss: 0.2008\n",
            "Epoch 5/100\n",
            "541/541 [==============================] - 1s 1ms/step - loss: 0.1886\n",
            "Epoch 6/100\n",
            "541/541 [==============================] - 1s 1ms/step - loss: 0.1780\n",
            "Epoch 7/100\n",
            "541/541 [==============================] - 1s 1ms/step - loss: 0.1691\n",
            "Epoch 8/100\n",
            "541/541 [==============================] - 1s 1ms/step - loss: 0.1602\n",
            "Epoch 9/100\n",
            "541/541 [==============================] - 1s 1ms/step - loss: 0.1528\n",
            "Epoch 10/100\n",
            "541/541 [==============================] - 1s 1ms/step - loss: 0.1465\n",
            "Epoch 11/100\n",
            "541/541 [==============================] - 1s 1ms/step - loss: 0.1427\n",
            "Epoch 12/100\n",
            "541/541 [==============================] - 1s 1ms/step - loss: 0.1380\n",
            "Epoch 13/100\n",
            "541/541 [==============================] - 1s 1ms/step - loss: 0.1348\n",
            "Epoch 14/100\n",
            "541/541 [==============================] - 1s 1ms/step - loss: 0.1319\n",
            "Epoch 15/100\n",
            "541/541 [==============================] - 1s 1ms/step - loss: 0.1298\n",
            "Epoch 16/100\n",
            "541/541 [==============================] - 1s 1ms/step - loss: 0.1278\n",
            "Epoch 17/100\n",
            "541/541 [==============================] - 1s 1ms/step - loss: 0.1254\n",
            "Epoch 18/100\n",
            "541/541 [==============================] - 1s 1ms/step - loss: 0.1225\n",
            "Epoch 19/100\n",
            "541/541 [==============================] - 1s 1ms/step - loss: 0.1236\n",
            "Epoch 20/100\n",
            "541/541 [==============================] - 1s 1ms/step - loss: 0.1207\n",
            "Epoch 21/100\n",
            "541/541 [==============================] - 1s 1ms/step - loss: 0.1194\n",
            "Epoch 22/100\n",
            "541/541 [==============================] - 1s 1ms/step - loss: 0.1190\n",
            "Epoch 23/100\n",
            "541/541 [==============================] - 1s 1ms/step - loss: 0.1157\n",
            "Epoch 24/100\n",
            "541/541 [==============================] - 1s 1ms/step - loss: 0.1141\n",
            "Epoch 25/100\n",
            "541/541 [==============================] - 1s 1ms/step - loss: 0.1148\n",
            "Epoch 26/100\n",
            "541/541 [==============================] - 1s 1ms/step - loss: 0.1129\n",
            "Epoch 27/100\n",
            "541/541 [==============================] - 1s 1ms/step - loss: 0.1126\n",
            "Epoch 28/100\n",
            "541/541 [==============================] - 1s 1ms/step - loss: 0.1114\n",
            "Epoch 29/100\n",
            "541/541 [==============================] - 1s 1ms/step - loss: 0.1133\n",
            "Epoch 30/100\n",
            "541/541 [==============================] - 1s 1ms/step - loss: 0.1101\n",
            "Epoch 31/100\n",
            "541/541 [==============================] - 1s 1ms/step - loss: 0.1096\n",
            "Epoch 32/100\n",
            "541/541 [==============================] - 1s 1ms/step - loss: 0.1084\n",
            "Epoch 33/100\n",
            "541/541 [==============================] - 1s 1ms/step - loss: 0.1086\n",
            "Epoch 34/100\n",
            "541/541 [==============================] - 1s 2ms/step - loss: 0.1086\n",
            "Epoch 35/100\n",
            "541/541 [==============================] - 1s 2ms/step - loss: 0.1098\n",
            "Epoch 36/100\n",
            "541/541 [==============================] - 1s 2ms/step - loss: 0.1080\n",
            "Epoch 37/100\n",
            "541/541 [==============================] - 1s 2ms/step - loss: 0.1079\n",
            "Epoch 38/100\n",
            "541/541 [==============================] - 1s 2ms/step - loss: 0.1067\n",
            "Epoch 39/100\n",
            "541/541 [==============================] - 1s 2ms/step - loss: 0.1070\n",
            "Epoch 40/100\n",
            "541/541 [==============================] - 1s 2ms/step - loss: 0.1062\n",
            "Epoch 41/100\n",
            "541/541 [==============================] - 1s 1ms/step - loss: 0.1048\n",
            "Epoch 42/100\n",
            "541/541 [==============================] - 1s 1ms/step - loss: 0.1053\n",
            "Epoch 43/100\n",
            "541/541 [==============================] - 1s 2ms/step - loss: 0.1055\n",
            "Epoch 44/100\n",
            "541/541 [==============================] - 1s 1ms/step - loss: 0.1063\n",
            "Epoch 45/100\n",
            "541/541 [==============================] - 1s 1ms/step - loss: 0.1060\n",
            "Epoch 46/100\n",
            "541/541 [==============================] - 1s 2ms/step - loss: 0.1059\n",
            "Epoch 47/100\n",
            "541/541 [==============================] - 1s 1ms/step - loss: 0.1036\n",
            "Epoch 48/100\n",
            "541/541 [==============================] - 1s 2ms/step - loss: 0.1027\n",
            "Epoch 49/100\n",
            "541/541 [==============================] - 1s 2ms/step - loss: 0.1031\n",
            "Epoch 50/100\n",
            "541/541 [==============================] - 1s 2ms/step - loss: 0.1038\n",
            "Epoch 51/100\n",
            "541/541 [==============================] - 1s 2ms/step - loss: 0.1035\n",
            "Epoch 52/100\n",
            "541/541 [==============================] - 1s 2ms/step - loss: 0.1034\n",
            "Epoch 53/100\n",
            "541/541 [==============================] - 1s 2ms/step - loss: 0.1017\n",
            "Epoch 54/100\n",
            "541/541 [==============================] - 1s 2ms/step - loss: 0.1026\n",
            "Epoch 55/100\n",
            "541/541 [==============================] - 1s 2ms/step - loss: 0.1028\n",
            "Epoch 56/100\n",
            "541/541 [==============================] - 1s 2ms/step - loss: 0.1025\n",
            "Epoch 57/100\n",
            "541/541 [==============================] - 1s 2ms/step - loss: 0.1012\n",
            "Epoch 58/100\n",
            "541/541 [==============================] - 1s 2ms/step - loss: 0.1007\n",
            "Epoch 59/100\n",
            "541/541 [==============================] - 1s 2ms/step - loss: 0.1012\n",
            "Epoch 60/100\n",
            "541/541 [==============================] - 1s 2ms/step - loss: 0.1021\n",
            "Epoch 61/100\n",
            "541/541 [==============================] - 1s 2ms/step - loss: 0.1008\n",
            "Epoch 62/100\n",
            "541/541 [==============================] - 1s 2ms/step - loss: 0.1017\n",
            "Epoch 63/100\n",
            "541/541 [==============================] - 1s 2ms/step - loss: 0.1005\n",
            "Epoch 64/100\n",
            "541/541 [==============================] - 1s 2ms/step - loss: 0.1013\n",
            "Epoch 65/100\n",
            "541/541 [==============================] - 1s 2ms/step - loss: 0.1009\n",
            "Epoch 66/100\n",
            "541/541 [==============================] - 1s 2ms/step - loss: 0.1001\n",
            "Epoch 67/100\n",
            "541/541 [==============================] - 1s 2ms/step - loss: 0.1015\n",
            "Epoch 68/100\n",
            "541/541 [==============================] - 1s 2ms/step - loss: 0.0995\n",
            "Epoch 69/100\n",
            "541/541 [==============================] - 1s 2ms/step - loss: 0.0999\n",
            "Epoch 70/100\n",
            "541/541 [==============================] - 1s 2ms/step - loss: 0.1004\n",
            "Epoch 71/100\n",
            "541/541 [==============================] - 1s 2ms/step - loss: 0.1003\n",
            "Epoch 72/100\n",
            "541/541 [==============================] - 1s 2ms/step - loss: 0.1004\n",
            "Epoch 73/100\n",
            "541/541 [==============================] - 1s 2ms/step - loss: 0.0995\n",
            "Epoch 74/100\n",
            "541/541 [==============================] - 1s 3ms/step - loss: 0.1001\n",
            "Epoch 75/100\n",
            "541/541 [==============================] - 1s 3ms/step - loss: 0.0984\n",
            "Epoch 76/100\n",
            "541/541 [==============================] - 1s 2ms/step - loss: 0.0993\n",
            "Epoch 77/100\n",
            "541/541 [==============================] - 1s 2ms/step - loss: 0.0983\n",
            "Epoch 78/100\n",
            "541/541 [==============================] - 1s 2ms/step - loss: 0.0990\n",
            "Epoch 79/100\n",
            "541/541 [==============================] - 1s 2ms/step - loss: 0.0988\n",
            "Epoch 80/100\n",
            "541/541 [==============================] - 1s 2ms/step - loss: 0.0997\n",
            "Epoch 81/100\n",
            "541/541 [==============================] - 1s 1ms/step - loss: 0.0985\n",
            "Epoch 82/100\n",
            "541/541 [==============================] - 1s 1ms/step - loss: 0.0975\n",
            "Epoch 83/100\n",
            "541/541 [==============================] - 1s 1ms/step - loss: 0.0988\n",
            "Epoch 84/100\n",
            "541/541 [==============================] - 1s 2ms/step - loss: 0.0969\n",
            "Epoch 85/100\n",
            "541/541 [==============================] - 1s 1ms/step - loss: 0.0987\n",
            "Epoch 86/100\n",
            "541/541 [==============================] - 1s 2ms/step - loss: 0.0968\n",
            "Epoch 87/100\n",
            "541/541 [==============================] - 1s 2ms/step - loss: 0.0981\n",
            "Epoch 88/100\n",
            "541/541 [==============================] - 2s 3ms/step - loss: 0.0975\n",
            "Epoch 89/100\n",
            "541/541 [==============================] - 2s 3ms/step - loss: 0.0982\n",
            "Epoch 90/100\n",
            "541/541 [==============================] - 2s 3ms/step - loss: 0.0975\n",
            "Epoch 91/100\n",
            "541/541 [==============================] - 1s 2ms/step - loss: 0.0971\n",
            "Epoch 92/100\n",
            "541/541 [==============================] - 1s 2ms/step - loss: 0.0973\n",
            "Epoch 93/100\n",
            "541/541 [==============================] - 1s 2ms/step - loss: 0.0982\n",
            "Epoch 94/100\n",
            "541/541 [==============================] - 1s 2ms/step - loss: 0.0971\n",
            "Epoch 95/100\n",
            "541/541 [==============================] - 1s 2ms/step - loss: 0.0968\n",
            "Epoch 96/100\n",
            "541/541 [==============================] - 1s 2ms/step - loss: 0.0974\n",
            "Epoch 97/100\n",
            "541/541 [==============================] - 1s 2ms/step - loss: 0.0975\n",
            "Epoch 98/100\n",
            "541/541 [==============================] - 1s 2ms/step - loss: 0.0969\n",
            "Epoch 99/100\n",
            "541/541 [==============================] - 1s 2ms/step - loss: 0.0971\n",
            "Epoch 100/100\n",
            "541/541 [==============================] - 1s 2ms/step - loss: 0.0957\n"
          ]
        },
        {
          "output_type": "execute_result",
          "data": {
            "text/plain": [
              "<keras.callbacks.History at 0x7fc88dcf5c10>"
            ]
          },
          "metadata": {},
          "execution_count": 18
        }
      ]
    },
    {
      "cell_type": "markdown",
      "metadata": {
        "id": "8K26Ei1AvwEK"
      },
      "source": [
        "#Performance"
      ]
    },
    {
      "cell_type": "markdown",
      "metadata": {
        "id": "7h-URUuuzWMx"
      },
      "source": [
        "##SVR"
      ]
    },
    {
      "cell_type": "code",
      "metadata": {
        "id": "W4y2YBQFwxKy"
      },
      "source": [
        "y_pred_SVR = regressor_SVR.predict(sc_X.transform(X_test))\n",
        "y_pred_SVR = sc_y.inverse_transform(y_pred_SVR.reshape((-1,1)))"
      ],
      "execution_count": 24,
      "outputs": []
    },
    {
      "cell_type": "code",
      "metadata": {
        "colab": {
          "base_uri": "https://localhost:8080/"
        },
        "id": "Vwzv2CWsvCBU",
        "outputId": "eba72586-cc19-49b7-b81c-965b2715a8df"
      },
      "source": [
        "from sklearn.metrics import r2_score\n",
        "print(\"Performance:\")\n",
        "print(r2_score(y_test, y_pred_SVR))"
      ],
      "execution_count": 25,
      "outputs": [
        {
          "output_type": "stream",
          "name": "stdout",
          "text": [
            "Performance:\n",
            "0.8133752433480548\n"
          ]
        }
      ]
    },
    {
      "cell_type": "markdown",
      "metadata": {
        "id": "V2KqfGPZzX-W"
      },
      "source": [
        "##XGBoost"
      ]
    },
    {
      "cell_type": "code",
      "metadata": {
        "id": "NdCsM3lIyqME"
      },
      "source": [
        "y_pred_XGB = regressor_XGB.predict(sc_X.transform(X_test))\n",
        "y_pred_XGB = sc_y.inverse_transform(y_pred_XGB.reshape((-1,1)))"
      ],
      "execution_count": 27,
      "outputs": []
    },
    {
      "cell_type": "code",
      "metadata": {
        "colab": {
          "base_uri": "https://localhost:8080/"
        },
        "id": "egWss1uJy1TN",
        "outputId": "dd2ddaec-3fc4-4090-d21b-8f1c7d8395cc"
      },
      "source": [
        "from sklearn.metrics import r2_score\n",
        "print(\"Performance:\")\n",
        "print(r2_score(y_test, y_pred_XGB))"
      ],
      "execution_count": 28,
      "outputs": [
        {
          "output_type": "stream",
          "name": "stdout",
          "text": [
            "Performance:\n",
            "0.8521664966478254\n"
          ]
        }
      ]
    },
    {
      "cell_type": "markdown",
      "metadata": {
        "id": "BMyUbuW6zizc"
      },
      "source": [
        "##ANN"
      ]
    },
    {
      "cell_type": "code",
      "metadata": {
        "id": "IA0yApEmBG1X"
      },
      "source": [
        "y_pred_ANN = ann.predict(sc_X.transform(X_test))\n",
        "y_pred_ANN = sc_y.inverse_transform(y_pred_ANN.reshape((-1,1)))"
      ],
      "execution_count": 29,
      "outputs": []
    },
    {
      "cell_type": "code",
      "metadata": {
        "colab": {
          "base_uri": "https://localhost:8080/"
        },
        "id": "XT6EGY3bz27A",
        "outputId": "f57d7e50-dda1-427e-b2f0-4db3b0db3f42"
      },
      "source": [
        "from sklearn.metrics import r2_score\n",
        "print(\"Performance:\")\n",
        "print(r2_score(y_test, y_pred_ANN))"
      ],
      "execution_count": 30,
      "outputs": [
        {
          "output_type": "stream",
          "name": "stdout",
          "text": [
            "Performance:\n",
            "0.8777464381217712\n"
          ]
        }
      ]
    }
  ]
}